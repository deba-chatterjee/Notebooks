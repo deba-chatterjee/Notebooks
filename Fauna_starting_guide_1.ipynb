{
 "cells": [
  {
   "cell_type": "code",
   "execution_count": null,
   "metadata": {},
   "outputs": [],
   "source": [
    "import sys\n",
    "import json\n",
    "\n",
    " #\n",
    " # These are the required imports for Fauna.\n",
    " #\n",
    "from faunadb.client import FaunaClient\n",
    "from faunadb import query as q"
   ]
  },
  {
   "cell_type": "code",
   "execution_count": null,
   "metadata": {},
   "outputs": [],
   "source": [
    "# Set the parameters and connect to the local Fauna Instance\n",
    "\n",
    "scheme = \"http\"\n",
    "domain = \"127.0.0.1\"\n",
    "port = \"8443\"\n",
    "secret = \"secret\"\n",
    "adminClient = FaunaClient(secret=secret, domain=domain, scheme=scheme, port=port)\n",
    "print (\"Connected to FaunaDB\")"
   ]
  },
  {
   "cell_type": "code",
   "execution_count": 49,
   "metadata": {},
   "outputs": [
    {
     "name": "stdout",
     "output_type": "stream",
     "text": [
      "{'data': [Ref(id=deba, class=Ref(id=databases)), Ref(id=Test, class=Ref(id=databases))]}\n"
     ]
    }
   ],
   "source": [
    "# Let us check if there are any existing databases\n",
    "\n",
    "res = adminClient.query(q.paginate(q.databases()))\n",
    "print (res)\n"
   ]
  },
  {
   "cell_type": "code",
   "execution_count": null,
   "metadata": {},
   "outputs": [],
   "source": [
    "# We could create a new database or go to the next step where we will drop the database if exists and recreate it\n",
    "db_name = \"Test\"\n",
    "\n",
    "res = adminClient.query(\n",
    "        q.create_database({\"name\": db_name})\n",
    "    )\n",
    "\n",
    "print('DB {0} created: {1}'.format(db_name, res))"
   ]
  },
  {
   "cell_type": "code",
   "execution_count": 75,
   "metadata": {},
   "outputs": [
    {
     "name": "stdout",
     "output_type": "stream",
     "text": [
      "DB Test created: [{'ref': Ref(id=Test, class=Ref(id=databases)), 'ts': 1534540314591513, 'name': 'Test'}, {'ref': Ref(id=Test, class=Ref(id=databases)), 'ts': 1534542291539347, 'name': 'Test'}]\n"
     ]
    }
   ],
   "source": [
    "# We could have checked whether the database existed \n",
    "# Delete if exists and then create and if not just create it\n",
    "\n",
    "res = adminClient.query(\n",
    "        q.if_(\n",
    "            q.exists(q.database(db_name)),\n",
    "            [q.delete(q.database(db_name)), q.create_database({\"name\": db_name})],\n",
    "            q.create_database({\"name\": db_name}))\n",
    "    )\n",
    "\n",
    "print('DB {0} created: {1}'.format(db_name, res))"
   ]
  },
  {
   "cell_type": "code",
   "execution_count": 76,
   "metadata": {},
   "outputs": [
    {
     "name": "stdout",
     "output_type": "stream",
     "text": [
      "DB Test secret: fnAC4qnUGnACAMb59mI-vukrBm-Qo5qtgy907Cb2\n"
     ]
    }
   ],
   "source": [
    "# Now that the database is created let us create a key that will help us to connect to the DB\n",
    "\n",
    "newKey = adminClient.query(q.select([\"secret\"], q.create_key({\"database\": q.database(db_name), \"role\": \"server\"})))\n",
    "print('DB {0} secret: {1}'.format(db_name, newKey))"
   ]
  },
  {
   "cell_type": "code",
   "execution_count": 77,
   "metadata": {},
   "outputs": [],
   "source": [
    "# In this step we will create a connection to the newly created database using the key we just created above\n",
    "client = FaunaClient(secret=newKey, domain=\"127.0.0.1\", scheme=\"http\", port=8443)"
   ]
  },
  {
   "cell_type": "code",
   "execution_count": 78,
   "metadata": {},
   "outputs": [
    {
     "name": "stdout",
     "output_type": "stream",
     "text": [
      "Created 'People' class.\n"
     ]
    }
   ],
   "source": [
    "# Now let us create a new class called People\n",
    "\n",
    "res = client.query(\n",
    "        [\n",
    "            q.create_class({\"name\": \"People\"})\n",
    "        ]\n",
    "    )\n",
    "print('Created \\'People\\' class.')"
   ]
  },
  {
   "cell_type": "code",
   "execution_count": 79,
   "metadata": {},
   "outputs": [
    {
     "name": "stdout",
     "output_type": "stream",
     "text": [
      "Created 'people_by_state'index\n"
     ]
    }
   ],
   "source": [
    "# The next step would be to create an index on the data\n",
    "# Let us create an index on the state term\n",
    "\n",
    "res = client.query([\n",
    "        q.create_index({\n",
    "            \"name\": \"people_by_state\",\n",
    "            \"source\": q.class_(\"People\"),\n",
    "            \"unique\": False,\n",
    "            \"terms\": {\"field\": [\"data\", \"state\"]}\n",
    "        })\n",
    "    ])\n",
    "\n",
    "print('Created \\'people_by_state\\'index')"
   ]
  },
  {
   "cell_type": "code",
   "execution_count": 80,
   "metadata": {},
   "outputs": [
    {
     "name": "stdout",
     "output_type": "stream",
     "text": [
      "--End--\n"
     ]
    }
   ],
   "source": [
    "# In this section below we will create a bunch of fake data and load it into our class\n",
    "# I am leveraging the Faker library to generate some synthetic data to populate the class\n",
    "# You may change the number in the range field to increase or decrease \n",
    "# Once the data is populated, you can query it via the index or go to the dashboard and inspect it\n",
    "#\n",
    "from faker import Faker\n",
    "import pandas as pd\n",
    "import random\n",
    "fake = Faker()\n",
    "df = pd.DataFrame(columns=('name', 'email', 'address', 'city', 'state'))\n",
    "for i in range(50):\n",
    "    stuff = [fake.name()\n",
    "        , fake.email()\n",
    "        , fake.address()\n",
    "        , fake.city()\n",
    "        , fake.state()]\n",
    "    df.loc[i] = [item for item in stuff]\n",
    "    \n",
    "json_data=df.to_json(orient='records')\n",
    "js=json.loads(json_data)\n",
    "\n",
    "\n",
    "res = client.query(\n",
    "        q.map_(\n",
    "            lambda People: q.create(q.class_(\"People\"),\n",
    "                                {\"data\": People}),\n",
    "            js)\n",
    "    )\n",
    "print (\"--End--\")"
   ]
  },
  {
   "cell_type": "code",
   "execution_count": null,
   "metadata": {},
   "outputs": [],
   "source": []
  }
 ],
 "metadata": {
  "kernelspec": {
   "display_name": "Python 3",
   "language": "python",
   "name": "python3"
  },
  "language_info": {
   "codemirror_mode": {
    "name": "ipython",
    "version": 3
   },
   "file_extension": ".py",
   "mimetype": "text/x-python",
   "name": "python",
   "nbconvert_exporter": "python",
   "pygments_lexer": "ipython3",
   "version": "3.6.5"
  }
 },
 "nbformat": 4,
 "nbformat_minor": 2
}
